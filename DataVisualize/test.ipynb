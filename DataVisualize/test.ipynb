{
 "cells": [
  {
   "cell_type": "code",
   "execution_count": null,
   "metadata": {},
   "outputs": [
    {
     "ename": "",
     "evalue": "",
     "output_type": "error",
     "traceback": [
      "\u001b[1;31mRunning cells with 'Python 3.11.9' requires the ipykernel package.\n",
      "\u001b[1;31mRun the following command to install 'ipykernel' into the Python environment. \n",
      "\u001b[1;31mCommand: 'c:/msys64/ucrt64/bin/python.exe -m pip install ipykernel -U --user --force-reinstall'"
     ]
    }
   ],
   "source": [
    "pip install pandas\n",
    "pip install matplotlib\n",
    "pip install seaborn"
   ]
  },
  {
   "cell_type": "code",
   "execution_count": null,
   "metadata": {},
   "outputs": [],
   "source": [
    "import pandas as pd \n",
    "import matplotlib.pyplot as plt \n",
    "from matplotlib.gridspec import GridSpec\n",
    "import seaborn as sns\n",
    "import re"
   ]
  },
  {
   "cell_type": "code",
   "execution_count": null,
   "metadata": {},
   "outputs": [],
   "source": [
    "df = pd.read_csv('../data/raw_data.csv', index_col= 0)\n",
    "df.head(10)"
   ]
  },
  {
   "cell_type": "code",
   "execution_count": null,
   "metadata": {},
   "outputs": [],
   "source": [
    "df_renamed = df.rename(columns = {\"Ngày\":\"date\", \"Địa chỉ\":\"address\", \"Quận\":\"district\", \n",
    "                                  \"Huyện\":\"ward\", \"Loại hình nhà ở\":\"type_of_housing\",\n",
    "                                 \"Giấy tờ pháp lý\":\"legal_paper\", \"Số tầng\":\"num_floors\",\n",
    "                                 \"Số phòng ngủ\":\"num_bed_rooms\", \"Diện tích\":\"squared_meter_area\",\n",
    "                                 \"Dài\":\"length_meter\", \"Rộng\":\"width_meter\", \"Giá/m2\":\"price_in_million_per_square_meter\"})\n",
    "\n",
    "\n",
    "\n",
    "\n",
    "# Filter data\n",
    "# Remove houses with \"10 plus\" floors and bed rooms, since this cannot be exactly quantified\n",
    "df_renamed = df_renamed[df_renamed['num_floors'] != 'Nhiều hơn 10']\n",
    "df_renamed = df_renamed[df_renamed['num_bed_rooms'] != 'nhiều hơn 10 phòng']\n",
    "df_renamed['date'] = pd.to_datetime(df_renamed['date'], errors='coerce')\n",
    "# Clean columns and convert numerical columns to float type\n",
    "    # Add more features ( if needed)\n",
    "\n",
    "df_renamed['year'] = df_renamed['date'].dt.year\n",
    "df_renamed['month'] = df_renamed['date'].dt.month\n",
    "df_renamed['day_of_week'] = df_renamed['date'].dt.dayofweek\n",
    "df_renamed['is_weekend'] = df_renamed['date'].dt.weekday >= 5\n",
    "\n",
    "df_renamed['address'] = df_renamed['address'].fillna(\"UNK\")\n",
    "df_renamed['street'] = df_renamed['address'].str.split(',').apply(lambda x: x[0].strip())\n",
    "\n",
    "df_renamed['district'] = df_renamed['district'].str.replace('Quận ','').str.strip()\n",
    "df_renamed['ward'] = df_renamed['ward'].str.replace('Phường ','').str.strip()\n",
    "df_renamed['num_floors'] = df_renamed['num_floors'].str.strip().astype(float)\n",
    "df_renamed['num_bed_rooms'] = df_renamed['num_bed_rooms'].str.replace(' phòng','').str.strip().astype(float)\n",
    "df_renamed['squared_meter_area'] = df_renamed['squared_meter_area'].str.replace(' m²','').str.strip().astype(float)\n",
    "df_renamed['length_meter'] = df_renamed['length_meter'].str.replace(' m','').str.strip().astype(float)\n",
    "df_renamed['width_meter'] = df_renamed['width_meter'].str.replace(' m','').str.strip().astype(float)\n",
    "\n",
    "\n",
    "\n",
    "cat_col = ['address', 'street','district', 'ward', 'type_of_housing', 'legal_paper']\n",
    "num_col = [col for col in df_renamed.columns if col not in cat_col]\n",
    "\n",
    "df_renamed[cat_col] = df_renamed[cat_col].fillna(\"UNK\")\n",
    "df_renamed[num_col] = df_renamed[num_col].fillna(-1)\n",
    "\n",
    "\n",
    "\n",
    "# Clean and convert all prices to million/m2 instead of VND/m2 or billion/m2\n",
    "        # Convert values containing 'tỷ/m²'\n",
    "df_renamed.loc[df_renamed['price_in_million_per_square_meter'].str.contains(' tỷ/m²', na=False), 'price_in_million_per_square_meter'] = \\\n",
    "    df_renamed.loc[df_renamed['price_in_million_per_square_meter'].str.contains(' tỷ/m²', na=False), 'price_in_million_per_square_meter'] \\\n",
    "    .str.replace(' tỷ/m²', '').str.replace('.', '').str.replace(',', '.').astype(float) * 1000\n",
    "\n",
    "        # Convert values containing 'triệu/m²'\n",
    "df_renamed.loc[df_renamed['price_in_million_per_square_meter'].str.contains(' triệu/m²', na=False), 'price_in_million_per_square_meter'] = \\\n",
    "    df_renamed.loc[df_renamed['price_in_million_per_square_meter'].str.contains(' triệu/m²', na=False), 'price_in_million_per_square_meter'] \\\n",
    "    .str.replace(' triệu/m²', '').str.replace(',', '.').astype(float)\n",
    "\n",
    "        # Convert values containing 'đ/m²'\n",
    "df_renamed.loc[df_renamed['price_in_million_per_square_meter'].str.contains(' đ/m²', na=False), 'price_in_million_per_square_meter'] = \\\n",
    "    df_renamed.loc[df_renamed['price_in_million_per_square_meter'].str.contains(' đ/m²', na=False), 'price_in_million_per_square_meter'] \\\n",
    "    .str.replace(' đ/m²', '').str.replace('.', '').astype(float) * 0.000001\n",
    "df_renamed['price_in_million_per_square_meter'] = df_renamed['price_in_million_per_square_meter'].astype(float)\n",
    "# Add informative features\n",
    "# Total number of rooms (sum of floors and bedrooms)\n",
    "df_renamed['total_rooms'] = df_renamed['num_floors'] + df_renamed['num_bed_rooms']\n",
    "\n",
    "# Floors per Bedroom (ratio of number of floors to number of bedrooms)\n",
    "df_renamed['floors_per_bedroom'] = df_renamed['num_floors'] / df_renamed['num_bed_rooms']\n",
    "\n",
    "\n",
    "# Remove redundant columns\n",
    "df_renamed = df_renamed.drop(columns= ['address', 'date'])\n",
    "\n"
   ]
  },
  {
   "cell_type": "code",
   "execution_count": null,
   "metadata": {},
   "outputs": [],
   "source": [
    "df_renamed.head(1)"
   ]
  },
  {
   "cell_type": "code",
   "execution_count": null,
   "metadata": {},
   "outputs": [],
   "source": [
    "df_renamed.info()   "
   ]
  },
  {
   "cell_type": "markdown",
   "metadata": {},
   "source": [
    "# EDA PART"
   ]
  },
  {
   "cell_type": "code",
   "execution_count": null,
   "metadata": {},
   "outputs": [],
   "source": [
    "# Setting up plots\n",
    "sns.set(style=\"whitegrid\")\n",
    "plt.rcParams['figure.figsize'] = (12, 6)\n",
    "\n",
    "# 1. Descriptive Statistics\n",
    "numeric_summary = df_renamed.describe()\n",
    "categorical_columns = df_renamed.select_dtypes(include='object').columns\n",
    "df_renamed[categorical_columns].describe()\n",
    "\n"
   ]
  },
  {
   "cell_type": "code",
   "execution_count": null,
   "metadata": {},
   "outputs": [],
   "source": [
    "# 2. Distribution of categorical variables\n",
    "district_distribution = df_renamed['district'].value_counts()\n",
    "housing_type_distribution = df_renamed['type_of_housing'].value_counts()\n",
    "legal_docs_distribution = df_renamed['legal_paper'].value_counts()\n",
    "\n",
    "fig, axes = plt.subplots(1, 3, figsize=(18, 10), constrained_layout=True)\n",
    "\n",
    "# Distribution of districts\n",
    "axes[0].barh(district_distribution.index, district_distribution.values, color='skyblue')\n",
    "axes[0].set_title('Distribution of Districts')\n",
    "axes[0].set_ylabel('Districts')\n",
    "axes[0].set_xlabel('Count')\n",
    "axes[0].tick_params(axis='x', rotation=45)\n",
    "\n",
    "# Distribution of housing types\n",
    "axes[1].bar(housing_type_distribution.index, housing_type_distribution.values, color='lightgreen')\n",
    "axes[1].set_title('Distribution of Housing Types')\n",
    "axes[1].set_xlabel('Housing Type')\n",
    "axes[1].set_ylabel('Count')\n",
    "axes[1].tick_params(axis='x', rotation=45)\n",
    "\n",
    "# Distribution of legal documents\n",
    "axes[2].bar(legal_docs_distribution.index, legal_docs_distribution.values, color='lightcoral')\n",
    "axes[2].set_title('Distribution of Legal Documents')\n",
    "axes[2].set_xlabel('Legal Document Type')\n",
    "axes[2].set_ylabel('Count')\n",
    "axes[2].tick_params(axis='x', rotation=45)\n",
    "\n",
    "# Show the plots\n",
    "plt.show()\n"
   ]
  },
  {
   "cell_type": "code",
   "execution_count": null,
   "metadata": {},
   "outputs": [],
   "source": [
    "\n",
    "fig, axes = plt.subplots(2, 3, figsize=(18, 10))\n",
    "\n",
    "# 3. Price Distribution\n",
    "sns.histplot(df_renamed['price_in_million_per_square_meter'], bins=50, kde=True, color='blue', ax=axes[0, 0])\n",
    "axes[0, 0].set_title('Distribution of Price per Square Meter (Giá/m2)')\n",
    "axes[0, 0].set_xlabel('Price per Square Meter (million VND)')\n",
    "axes[0, 0].set_ylabel('Frequency')\n",
    "\n",
    "# 4. Area Distribution\n",
    "sns.histplot(df_renamed['squared_meter_area'], bins=50, kde=True, color='green', ax=axes[0, 1])\n",
    "axes[0, 1].set_title('Distribution of Property Area (m²)')\n",
    "axes[0, 1].set_xlabel('Area (m²)')\n",
    "axes[0, 1].set_ylabel('Frequency')\n",
    "\n",
    "# 5. Relationship Between Area and Price\n",
    "sns.scatterplot(x=df_renamed['squared_meter_area'], y=df_renamed['price_in_million_per_square_meter'], alpha=0.5, color='purple', ax=axes[0, 2])\n",
    "axes[0, 2].set_title('Relationship Between Area and Price per Square Meter')\n",
    "axes[0, 2].set_xlabel('Area (m²)')\n",
    "axes[0, 2].set_ylabel('Price per Square Meter (million VND)')\n",
    "\n",
    "# 6. Average Price by District\n",
    "district_avg_price = df_renamed.groupby('district')['price_in_million_per_square_meter'].mean().sort_values(ascending=False)\n",
    "district_avg_price.plot(kind='barh', color='coral', edgecolor='black', ax=axes[1, 0])\n",
    "axes[1, 0].set_title('Average Price per Square Meter by District')\n",
    "axes[1, 0].set_xlabel('District')\n",
    "axes[1, 0].set_ylabel('Average Price (million VND)')\n",
    "\n",
    "axes[1, 1].axis('off')\n",
    "axes[1, 2].axis('off')\n",
    "\n",
    "plt.tight_layout()\n",
    "plt.show()\n"
   ]
  },
  {
   "cell_type": "markdown",
   "metadata": {},
   "source": [
    "# data có quá nhiều outliers dẫn dến distribution qúa lệch -> nên xử lí outliers"
   ]
  },
  {
   "cell_type": "code",
   "execution_count": null,
   "metadata": {},
   "outputs": [],
   "source": [
    "# 7. Correlation Heatmap\n",
    "correlation_matrix = df_renamed[[col for col in df_renamed.columns if col not in categorical_columns]].corr()\n",
    "sns.heatmap(correlation_matrix, annot=True, cmap='coolwarm', fmt=\".2f\")\n",
    "plt.title('Correlation Heatmap')"
   ]
  },
  {
   "cell_type": "code",
   "execution_count": null,
   "metadata": {},
   "outputs": [],
   "source": []
  }
 ],
 "metadata": {
  "kernelspec": {
   "display_name": "Python 3",
   "language": "python",
   "name": "python3"
  },
  "language_info": {
   "codemirror_mode": {
    "name": "ipython",
    "version": 3
   },
   "file_extension": ".py",
   "mimetype": "text/x-python",
   "name": "python",
   "nbconvert_exporter": "python",
   "pygments_lexer": "ipython3",
   "version": "3.11.9"
  }
 },
 "nbformat": 4,
 "nbformat_minor": 2
}
